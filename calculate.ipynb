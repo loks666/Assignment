{
 "cells": [
  {
   "metadata": {},
   "cell_type": "code",
   "outputs": [],
   "execution_count": null,
   "source": [
    "import pandas as pd\n",
    "import numpy as np\n",
    "from sklearn.preprocessing import MinMaxScaler\n",
    "\n",
    "columns = [\"x\", \"y\", \"Xvel\", \"Yvel\"]\n",
    "df = pd.read_csv(\"./ce889_dataCollection.csv\", header=None)\n",
    "\n",
    "df\n"
   ],
   "id": "7db5c959a19eb85e"
  },
  {
   "metadata": {},
   "cell_type": "code",
   "outputs": [],
   "execution_count": null,
   "source": [
    "import numpy as np\n",
    "\n",
    "def sigmoid(x):\n",
    "    return 1 / (1 + np.exp(-x))\n",
    "\n",
    "\n",
    "def sigmoid_d(x):\n",
    "    return x * (1 - x)\n",
    "\n",
    "\n",
    "class netural_Network:\n",
    "    def __init__(self):\n",
    "        self.input_size = 2\n",
    "        self.hidden_size = 2\n",
    "        self.output_size = 2\n",
    "        self.input_hidden = np.random(rand(self.input_size, self.output_size))\n",
    "        self.output_hidden = np.random(rand(self.hidden_size, self.output_size))\n",
    "\n",
    "    def feed_forword(self, x):\n",
    "        self.hidden_output1 = sigmoid(np.dot(x, self.input_hidden))\n",
    "        self.output_y = sigmoid(np.dot(hidden_output1, self.output_hidden))\n",
    "        return self.output_y\n",
    "\n",
    "    def feed_backword(self, x, y, output, rate):\n",
    "        out_error = y - output\n",
    "        output_dalta = out_error * sigmoid(sigmoid_d(output))\n",
    "\n",
    "        hidden_error = output_dalta.dot(self.hidden_output1.T)\n",
    "        hidden_dalta = hidden_error * sigmoid_d(self.hidden_output1)\n",
    "\n",
    "        self.dalta_weight += self.hidden_output1.T.dot(output_dalta) * rate\n",
    "        self.dalta - weight2 += x.T.dot(hidden_dalta) * rate\n",
    "\n",
    "    def traingd(x, y, epo, result, rate):\n",
    "        for _ in range(epo):\n",
    "            result = feed_forword(x)\n",
    "            self.backword(x, y, rate)"
   ],
   "id": "1ab3880a"
  },
  {
   "cell_type": "code",
   "id": "57f5c582",
   "metadata": {
    "ExecuteTime": {
     "end_time": "2024-11-20T17:18:23.525651Z",
     "start_time": "2024-11-20T17:18:23.519366Z"
    }
   },
   "source": [
    "# create scaler\n",
    "scaler = MinMaxScaler()\n",
    "\n",
    "# fit and transform in one step\n",
    "df2 = scaler.fit_transform(df)\n",
    "\n",
    "df2 = pd.DataFrame(df2)\n",
    "df2"
   ],
   "outputs": [
    {
     "ename": "SyntaxError",
     "evalue": "expected ':' (1195717420.py, line 7)",
     "output_type": "error",
     "traceback": [
      "\u001B[1;36m  Cell \u001B[1;32mIn[1], line 7\u001B[1;36m\u001B[0m\n\u001B[1;33m    for columns in def_minmax[columns]\u001B[0m\n\u001B[1;37m                                      ^\u001B[0m\n\u001B[1;31mSyntaxError\u001B[0m\u001B[1;31m:\u001B[0m expected ':'\n"
     ]
    }
   ],
   "execution_count": null
  }
 ],
 "metadata": {
  "kernelspec": {
   "display_name": "Python 3 (ipykernel)",
   "language": "python",
   "name": "python3"
  },
  "language_info": {
   "codemirror_mode": {
    "name": "ipython",
    "version": 3
   },
   "file_extension": ".py",
   "mimetype": "text/x-python",
   "name": "python",
   "nbconvert_exporter": "python",
   "pygments_lexer": "ipython3",
   "version": "3.11.3"
  }
 },
 "nbformat": 4,
 "nbformat_minor": 5
}
