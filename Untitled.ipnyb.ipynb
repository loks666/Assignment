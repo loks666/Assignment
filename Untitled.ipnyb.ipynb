{
 "cells": [
  {
   "cell_type": "code",
   "execution_count": null,
   "id": "1ab3880a",
   "metadata": {},
   "outputs": [],
   "source": [
    "import numpy as np\n",
    "\n",
    "def sigmoid(x):\n",
    "        return 1/(1+np.exp(-x))\n",
    "\n",
    "def sigmoid_d(x):\n",
    "        return x*(1-x)\n",
    "\n",
    "class netural_Network:\n",
    "        def __init__(self):\n",
    "            self.input_size =2\n",
    "            self.hidden_size =2\n",
    "            self.output_size =2\n",
    "            self.input_hidden =np.random(rand(self.input_size, self.output_size))\n",
    "            self.output_hidden =np.random(rand(self.hidden_size, self.output_size))\n",
    "\n",
    "        def feed_forword(self,x):\n",
    "            self.hidden_output1 = sigmoid(np.dot(x, self.input_hidden))\n",
    "            self.output_y = sigmoid(np.dot(hidden_output1, self.output_hidden))\n",
    "            return self.output_y\n",
    "\n",
    "        def feed_backword(self, x, y, output, rate):\n",
    "            out_error = y - output\n",
    "            output_dalta = out_error * sigmoid(sigmoid_d(output))\n",
    "\n",
    "            hidden_error = output_dalta.dot(self.hidden_output1.T)\n",
    "            hidden_dalta = hidden_error * sigmoid_d(self.hidden_output1)\n",
    "\n",
    "            self.dalta_weight += self.hidden_output1.T.dot(output_dalta) * rate\n",
    "            self.dalta-weight2 += x.T.dot(hidden_dalta) * rate \n",
    "\n",
    "        def traingd(x, y, epo, result, rate):\n",
    "            for _ in range(epo):\n",
    "                result = feed_forword(x)\n",
    "                self.backword(x, y, rate)\n",
    "                \n",
    "\n",
    "    \n",
    "    \n",
    "        \n",
    "\n"
   ]
  },
  {
   "cell_type": "code",
   "execution_count": null,
   "id": "57f5c582",
   "metadata": {},
   "outputs": [],
   "source": [
    "import pandas as pd\n",
    "\n",
    "columns = [\"x\", \"y\", \"Xvel\", \"Yvel\"]\n",
    "df = pd.read_csv(\"ce889_dataCollection\", header-name , names-column)\n",
    "\n",
    "def_minmax = df.copy()\n",
    "for columns in def_minmax[columns]\n",
    "     def_minmax  "
   ]
  }
 ],
 "metadata": {
  "kernelspec": {
   "display_name": "Python 3 (ipykernel)",
   "language": "python",
   "name": "python3"
  },
  "language_info": {
   "codemirror_mode": {
    "name": "ipython",
    "version": 3
   },
   "file_extension": ".py",
   "mimetype": "text/x-python",
   "name": "python",
   "nbconvert_exporter": "python",
   "pygments_lexer": "ipython3",
   "version": "3.11.3"
  }
 },
 "nbformat": 4,
 "nbformat_minor": 5
}
